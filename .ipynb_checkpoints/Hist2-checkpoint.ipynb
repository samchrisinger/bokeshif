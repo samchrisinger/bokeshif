{
 "metadata": {
  "name": "",
  "signature": "sha256:5721b4fd6d6e6c21c10de41acb68f0c15c5982329588fbe2657e0a7bcaf9fdcd"
 },
 "nbformat": 3,
 "nbformat_minor": 0,
 "worksheets": [
  {
   "cells": [
    {
     "cell_type": "code",
     "collapsed": false,
     "input": [
      "import pandas as pd\n",
      "import numpy as np\n",
      "from bokeh.plotting import *\n",
      "from requests import get as rget\n",
      "import time\n",
      "\n",
      "from bokeh.document import Document\n",
      "from bokeh.session import Session\n",
      "from bokeh.widgetobjects import *\n",
      "from bokeh.objects import  DataRange1d, ColumnDataSource, Plot, LinearAxis, Glyph, Grid\n",
      "from bokeh.glyphs import Quad\n",
      "\n",
      "from datasource import ElasticDS as EDS\n",
      "\n",
      "output_notebook()\n",
      "ds = EDS()\n",
      "data = ds.get_data_frame()\n",
      "\n",
      "source = ColumnDataSource(data=data.to_dict(),\n",
      "                          column_names=ds.cols+['left','right','bottom'])\n",
      "\n",
      "xdr = DataRange1d(sources=[source.columns('date')])\n",
      "ydr = DataRange1d(sources=[source.columns(c) for c in ds.cols])\n",
      "\n",
      "plot = Plot(data_sources=[source], x_range=xdr, y_range=ydr, plot_width=800, plot_height=600)\n",
      "plot.tools = []\n",
      "\n",
      "\n",
      "mindate = min(data['date'])\n",
      "maxdate = max(data['date'])\n",
      "\n",
      "figure(plot_width=800,\n",
      "        plot_height=300,\n",
      "        x_range=[mindate,maxdate],\n",
      "        x_axis_type = \"datetime\",\n",
      "        tools=['box_zoom','reset'],\n",
      "        title='Document counts over time')\n",
      "\n",
      "left = [d-10 for d in data['date']]\n",
      "right = [d+10 for d in data['date']]\n",
      "\n",
      "hold()\n",
      "quad(left=left,right=right,bottom=np.zeros(len(data['date'])),top=data[keys[1]], color='blue', fill_alpha=0.15)\n",
      "quad(left=left,right=right,bottom=np.zeros(len(data['date'])),top=data[keys[2]], color='red', fill_alpha=0.15)\n",
      "quad(left=left,right=right,bottom=np.zeros(len(data['date'])),top=data[keys[3]], color='green', fill_alpha=0.15)\n",
      "quad(left=left,right=right,bottom=np.zeros(len(data['date'])),top=data[keys[4]], color='yellow', fill_alpha=0.15)\n",
      "\n",
      "xgrid().grid_line_color = None\n",
      "ygrid().grid_line_color = 'black'\n",
      "\n",
      "show()"
     ],
     "language": "python",
     "metadata": {},
     "outputs": []
    }
   ],
   "metadata": {}
  }
 ]
}